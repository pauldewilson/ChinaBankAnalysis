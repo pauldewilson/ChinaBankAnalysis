{
 "cells": [
  {
   "cell_type": "markdown",
   "metadata": {},
   "source": [
    "# Setup\n",
    "This setup documentation should get you to the point of downloading & installing an instance of SQL Server and successfully connecting Python to it"
   ]
  },
  {
   "cell_type": "markdown",
   "metadata": {},
   "source": [
    "### Technologies\n",
    "\n",
    "1. [Microsoft SQL Server](https://www.microsoft.com/en-us/sql-server/sql-server-downloads)\n",
    "2. [SQL Server Management Studio V15](https://docs.microsoft.com/en-us/sql/ssms/download-sql-server-management-studio-ssms?view=sql-server-ver15)\n",
    "3. [Python (see python application requirements.txt for versions)](https://www.python.org/downloads/)\n",
    "\n",
    "### Installing SQL Server & Database\n",
    "\n",
    "1. Download and install `SQL Server Management Studio` (SSMS) *hint: links are above*\n",
    "2. Download and install `Microsoft SQL Server (express edition)`\n",
    "#### POTENTIAL ERROR POINT NEXT: SQL Server installs on your local machine can be finicky and depending on your local/firewall settings you may encounter errors. Good luck.\n",
    "3. Connect SSMS to SQL Server [instructions here](https://docs.microsoft.com/en-us/sql/relational-databases/lesson-1-connecting-to-the-database-engine?view=sql-server-ver15).\n",
    "4. Ensure your instance of the server allows windows and SQL Logins (right click the server in the Object Explorer > properties > security > check 'SQL Server and Windows...')\n",
    "5. Open and execute `sql\\create_databases_and_schemas.sql`\n",
    "\n",
    "### Creating python user in SSMS\n",
    "\n",
    "In order to ensure the connection string used in this python package works, follow the following instructions otherwise you must configure your own connection string within `py\\modules\\settings.py`.\n",
    "\n",
    "1. Expand 'Security' under the server name\n",
    "2. Right click `Logins` > `New Login`\n",
    "3. Login name: `pylogin`\n",
    "4. Check `SQL Server authentication`\n",
    "5. Password & confirm password: `pypass`\n",
    "6. Uncheck `enforce password policy`\n",
    "7. Default database: `ChinaBank`\n",
    "8. Default language: `British`\n",
    "9. Click `User Mapping` on left\n",
    "10. Check `ChinaBank`\n",
    "11. Check `db owner`\n",
    "12. Click ok to save\n",
    "\n",
    "### Configure settings file\n",
    "\n",
    "1. Open `py\\modules\\settings.py` in your IDE/notepad of choice\n",
    "#### POTENTIAL ERROR POINT NEXT: Sometimes connection strings just work and sometimes they take fiddling with. This connection was taken from the [SQLALchemy documentation](https://docs.sqlalchemy.org/en/14/dialects/mssql.html#module-sqlalchemy.dialects.mssql.pyodbc).\n",
    "2. Follow comments within the `SQL_*` variables\n",
    "\n",
    "### Confirming connectivity\n",
    "\n",
    "By this point python should be able to successfully connect to SLQ Server and the following cell should display a hello, world success message.\n",
    "\n",
    "If you are getting an error of `'08001', '[08001] [Microsoft][ODBC SQL Server Driver][DBNETLIB]SQL Server does not exist or access denied.` then open `SQL Server Configuration Manager` > `SQL Server Network Configuration` > `Protocols for SQLExpress` > right click `TCP/IP` and ensure the following settings:\n",
    "1. Enabled: yes\n",
    "2. IP Addresses tab, scroll to bottom (IPAll) and type set TCP Port `1433`\n",
    "3. Click ok and try again. For further debugging seek Google / other advice"
   ]
  },
  {
   "cell_type": "markdown",
   "metadata": {},
   "source": [
    "## Initialising Python environment\n",
    "\n",
    "### Create a python instance in terminal (to run main app)\n",
    "\n",
    "Assuming use of vs code for the following.\n",
    "1. Create a new instance of the terminal within this directory\n",
    "2. Type and enter `cd py` to change into the `\\py` directory\n",
    "3. Type and enter `python -m venv venv` to initialise a virtual environment under the `venv` folder\n",
    "4. Type and enter `cd venv\\scripts`\n",
    "5. Type and enter `activate` to set your terminal to using the python virtual environment\n",
    "6. Type and enter `cd ..\\..\\` which navigates you back to py\n",
    "7. Type and enter `pip install -r requirements.txt` which will install the necessary python packages\n",
    "8. Press `ctrl+shift+p` and type `select interpreter` and press enter\n",
    "9. Navigate to the `venv\\scripts` folder you created above and select `python.exe`\n",
    "\n",
    "You have now created a virtual environment, installed the required dependencies, and instantiated a terminal using the virtual environment.\n",
    "\n",
    "### Running this .ipynb file\n",
    "1. Select your kernal on the top right and paste the full filepath to the `python.exe` per point 9 above\n",
    "2. Press enter and you should now be able to run the below test successfully."
   ]
  },
  {
   "cell_type": "code",
   "execution_count": 1,
   "metadata": {},
   "outputs": [
    {
     "name": "stdout",
     "output_type": "stream",
     "text": [
      "         success\n",
      "0  Hello, World!\n"
     ]
    }
   ],
   "source": [
    "from py.modules.server import ServerConnection\n",
    "import pandas as pd\n",
    "\n",
    "try:\n",
    "    df = pd.read_sql_query(\"SELECT 'Hello, World!' AS [success]\", con=ServerConnection().engine)\n",
    "    print(df)\n",
    "except Exception as ex:\n",
    "    print(\"Connection failed for reason: \")\n",
    "    print(ex)"
   ]
  },
  {
   "cell_type": "markdown",
   "metadata": {},
   "source": [
    "### Conclusion\n",
    "\n",
    "By now your connectivity should be working. If there are errors at this point, please go over the potential error points as noted, failing that googling any exceptions or seeking advice from a proficient SQL & Python developer is suggested."
   ]
  }
 ],
 "metadata": {
  "interpreter": {
   "hash": "24810c50fa94ba712fd7fc216f69e745174be61704fc0f5e0d2a0265a83c05c2"
  },
  "kernelspec": {
   "display_name": "Python 3.9.5 64-bit ('venv': venv)",
   "name": "python3"
  },
  "language_info": {
   "codemirror_mode": {
    "name": "ipython",
    "version": 3
   },
   "file_extension": ".py",
   "mimetype": "text/x-python",
   "name": "python",
   "nbconvert_exporter": "python",
   "pygments_lexer": "ipython3",
   "version": "3.9.5"
  }
 },
 "nbformat": 4,
 "nbformat_minor": 2
}
